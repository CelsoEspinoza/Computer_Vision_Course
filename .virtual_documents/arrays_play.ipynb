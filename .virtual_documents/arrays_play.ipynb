print("hello world")


import numpy as np


mlist = [1,2,3]


type(mlist)


myarray = np.array(mlist)


myarray


type(myarray)


np.arange(0, 10, 2)


np.zeros(shape=(10,4))


np.ones(shape=(1,5))


np.random.seed(101)
arr = np.random.randint(0, 100, 10)


arr


arr2 = np.random.randint(0, 100,10)


arr2


arr.max()


arr.argmax()


arr.min()


arr.argmin()


arr.mean()


arr.reshape((5,2))





myarray.reshape(3,1)














mat = np.arange(0,100).reshape(10,10)


mat


row = 7
col = 6


mat[row, col]


mat[:,1].reshape(10,1)


mat[1,:]


mat[0:3, 1:4]





mat[0:3, :] = 999


mat



