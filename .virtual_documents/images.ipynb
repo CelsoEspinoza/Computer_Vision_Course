import numpy as np


import matplotlib.pyplot as plt
%matplotlib inline


from PIL import Image


pic = Image.open('DATA/00-puppy.jpg')


type(pic)


pic_arr = np.asarray(pic)


type(pic_arr)


pic_arr.shape


plt.imshow(pic_arr)


pic_red = pic_arr.copy()


plt.imshow(pic_red)
           


pic_red.shape


# R G B
# cmap es el color mapping de donde se sacará la escala
# https://matplotlib.org/stable/gallery/color/colormap_reference.html

# RED CHANNEL VALUES 0 no red, pure black - 255 full pure red
plt.imshow(pic_red[:,:,0], cmap='gray')


# GREEN CHANNEL VALUES
plt.imshow(pic_red[:,:,1], cmap='gray')


# BLUE CHANNEL VALUES
plt.imshow(pic_red[:,:,2], cmap='gray')


pic_red[:,:,1] = 0


pic_red[:,:,2] = 0


plt.imshow(pic_red)


plt.imshow(pic_red[:,:,0], cmap='gray')


pic_red.shape


pic_red[:,:,0].shape



