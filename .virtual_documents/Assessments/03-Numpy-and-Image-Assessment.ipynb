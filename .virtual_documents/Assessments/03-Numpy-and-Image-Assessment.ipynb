





import numpy as np





arr1 = np.ones((5,5))*10


arr1





# This line sets a "seed" so you get the same random numbers we do
np.random.seed(101)
# This line creates an array of random numbers
arr = np.random.randint(low=0,high=100,size=(5,5))





arr.max()


arr.min()





import matplotlib.pyplot as plt
%matplotlib inline

from PIL import Image

pic = Image.open('DATA/00-puppy.jpg')






nppic = np.asarray(pic)





new_pic = nppic.copy()


new_pic[:,:,0] = 0
new_pic[:,:,1] = 0


plt.imshow(new_pic)






